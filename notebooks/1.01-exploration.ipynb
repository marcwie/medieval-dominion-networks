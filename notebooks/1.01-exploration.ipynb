{
 "cells": [
  {
   "cell_type": "code",
   "execution_count": null,
   "id": "320d2912-e065-45ae-bf1f-42bf2524234a",
   "metadata": {},
   "outputs": [],
   "source": [
    "%load_ext autoreload\n",
    "%autoreload 2\n",
    "\n",
    "import hydra\n",
    "import os\n",
    "import datetime\n",
    "from pathlib import Path\n",
    "\n",
    "# Initialize hydra and move to the root of the repository\n",
    "try:\n",
    "    hydra.initialize(version_base=None, config_path=\"../config/\")\n",
    "    CONFIG = hydra.compose(config_name=\"main.yaml\")\n",
    "    print('Initializing hydra')\n",
    "except:\n",
    "    print('Hydra already initalized!')\n",
    "else:\n",
    "    os.chdir('..')\n",
    "\n",
    "# Create an output folder in the root of the repository\n",
    "OUTPUT_FOLDER = Path('output/{0}'.format(datetime.datetime.now()))\n",
    "Path(OUTPUT_FOLDER).mkdir(parents=True, exist_ok=True)"
   ]
  },
  {
   "cell_type": "code",
   "execution_count": null,
   "id": "d8f8911e-a530-4815-bbca-1a0b7f04f853",
   "metadata": {},
   "outputs": [],
   "source": [
    "import pandas as pd\n",
    "from matplotlib import pyplot as plt\n",
    "import networkx as nx\n",
    "import numpy as np"
   ]
  },
  {
   "cell_type": "code",
   "execution_count": null,
   "id": "04e2a9fd-95fd-41b8-b67c-12a7f17c4506",
   "metadata": {},
   "outputs": [],
   "source": [
    "colors = plt.rcParams['axes.prop_cycle'].by_key()['color']"
   ]
  },
  {
   "cell_type": "code",
   "execution_count": null,
   "id": "d1c2bf38-b9ce-42ea-822f-468479186243",
   "metadata": {},
   "outputs": [],
   "source": [
    "nodes = pd.read_csv('data/01_raw/city_nodes_annual_all.csv')\n",
    "edges = pd.read_csv('data/01_raw/city_edges_annual_all.csv')\n",
    "\n",
    "pos = nodes[['PlaceID', 'XCOORD', 'YCOORD']].drop_duplicates().set_index('PlaceID').to_dict('index')\n",
    "pos = {key: (value['XCOORD'] - 3000000, value['YCOORD']) for key, value in pos.items()}\n",
    "\n",
    "years = np.sort(edges.Year.unique())"
   ]
  },
  {
   "cell_type": "code",
   "execution_count": null,
   "id": "0b6f1e73-86eb-4b70-870e-c27420cb6711",
   "metadata": {},
   "outputs": [],
   "source": [
    "def weighted_network():\n",
    "    edge_weights = edges.groupby(['from', 'to']).Year.count().reset_index().rename(columns={'Year': 'weight'})\n",
    "    edge_weights.weight /= edge_weights.weight.max()\n",
    "    edge_weights = edge_weights.values.tolist()\n",
    "    edge_weights = [[int(e[0]), int(e[1]), e[2]] for e in edge_weights]\n",
    "    \n",
    "    G = nx.Graph()\n",
    "    G.add_weighted_edges_from(edge_weights)\n",
    "\n",
    "    return G\n",
    "\n",
    "def singular_network(year, edges):\n",
    "    edges = edges[edges.Year == year]\n",
    "    edges = edges[['from', 'to']].values.tolist()\n",
    "    return edges"
   ]
  },
  {
   "cell_type": "code",
   "execution_count": null,
   "id": "28abfc2b-e048-445e-b995-dcbeac64252f",
   "metadata": {},
   "outputs": [],
   "source": [
    "n_edges = []\n",
    "for year in years:\n",
    "    e = singular_network(year, edges)\n",
    "    n_edges.append(len(e))"
   ]
  },
  {
   "cell_type": "code",
   "execution_count": null,
   "id": "5a12eaae-b067-4ed5-be43-cda176268aa4",
   "metadata": {},
   "outputs": [],
   "source": [
    "f, ax0 = plt.subplots()\n",
    "\n",
    "nodes.groupby('Year').Juden.sum().plot(ax=ax0)\n",
    "\n",
    "ax1 = ax0.twinx()\n",
    "ax1.plot(years, n_edges, c='k')"
   ]
  },
  {
   "cell_type": "code",
   "execution_count": null,
   "id": "56173ae2-dc78-43ba-8701-5902927c6bf2",
   "metadata": {},
   "outputs": [],
   "source": [
    "comms = nx.community.louvain_communities(G)\n",
    "T = np.sort([len(c) for c in comms])[-10]\n",
    "comms = [c for c in comms if len(c) >= T]\n",
    "\n",
    "print(len(comms))\n",
    "assert len(comms) <= 10"
   ]
  },
  {
   "cell_type": "code",
   "execution_count": null,
   "id": "ec843333-ea97-4bc4-9b83-d2ba8cf938a2",
   "metadata": {},
   "outputs": [],
   "source": [
    "nx.draw_networkx_nodes(G, pos, node_size=12, node_color='k')\n",
    "\n",
    "for i, comm in enumerate(comms):\n",
    "    nx.draw_networkx_nodes(G, pos, nodelist=comm, node_size=15, node_color=colors[i])\n",
    "\n",
    "nx.draw_networkx_edges(G, pos, alpha=0.025)"
   ]
  }
 ],
 "metadata": {
  "kernelspec": {
   "display_name": "Python 3 (ipykernel)",
   "language": "python",
   "name": "python3"
  },
  "language_info": {
   "codemirror_mode": {
    "name": "ipython",
    "version": 3
   },
   "file_extension": ".py",
   "mimetype": "text/x-python",
   "name": "python",
   "nbconvert_exporter": "python",
   "pygments_lexer": "ipython3",
   "version": "3.11.1"
  }
 },
 "nbformat": 4,
 "nbformat_minor": 5
}
