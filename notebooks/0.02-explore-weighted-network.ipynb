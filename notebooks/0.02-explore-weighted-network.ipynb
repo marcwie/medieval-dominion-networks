{
 "cells": [
  {
   "cell_type": "code",
   "execution_count": null,
   "id": "320d2912-e065-45ae-bf1f-42bf2524234a",
   "metadata": {},
   "outputs": [],
   "source": [
    "%load_ext autoreload\n",
    "%autoreload 2\n",
    "\n",
    "import hydra\n",
    "import os\n",
    "import datetime\n",
    "from pathlib import Path\n",
    "\n",
    "# Initialize hydra and move to the root of the repository\n",
    "try:\n",
    "    hydra.initialize(version_base=None, config_path=\"../config/\")\n",
    "    CONFIG = hydra.compose(config_name=\"main.yaml\")\n",
    "    print('Initializing hydra')\n",
    "except:\n",
    "    print('Hydra already initalized!')\n",
    "else:\n",
    "    os.chdir('..')\n",
    "    OUTPUT_FOLDER = Path('output/{0}'.format(datetime.datetime.now()))\n",
    "    Path(OUTPUT_FOLDER).mkdir(parents=True, exist_ok=True)"
   ]
  },
  {
   "cell_type": "code",
   "execution_count": null,
   "id": "dc211b54-77ef-4e4b-bccb-73e6d585b742",
   "metadata": {},
   "outputs": [],
   "source": [
    "from matplotlib import pyplot as plt\n",
    "import networkx as nx\n",
    "import pandas as pd\n",
    "from src.utils.styling import hide_and_move_axis, get_standard_colors\n",
    "import numpy as np\n",
    "from itertools import product, permutations\n",
    "from src.weighted_network import WeightedNetwork"
   ]
  },
  {
   "cell_type": "code",
   "execution_count": null,
   "id": "cf119837-0845-446d-9b09-e0b533539095",
   "metadata": {},
   "outputs": [],
   "source": [
    "def plot_community_characteristics(network, aggregate=True):\n",
    "\n",
    "    if aggregate:\n",
    "        fig, axarr = plt.subplots(2, 5, sharey=True, sharex=True, figsize=(8, 4))\n",
    "        output_file = 'governing_parties.jpg'\n",
    "    else:\n",
    "        fig, axarr = plt.subplots(2, 5, sharey=True, figsize=(10, 4))\n",
    "        output_file = 'governing_parties_distinct.jpg'\n",
    "\n",
    "    flatax = axarr.flatten()\n",
    "    colors = get_standard_colors()\n",
    "\n",
    "    communities = network.communities()\n",
    "    edges = network.edges()\n",
    "\n",
    "    for i, community in enumerate(communities):\n",
    "\n",
    "        in_edges = edges[edges['from'].isin(community) & edges['to'].isin(community)]\n",
    "\n",
    "        if aggregate:\n",
    "            ruling_parties = in_edges.PartyID.str[0]\n",
    "            hist = ruling_parties.value_counts()\n",
    "        else:\n",
    "            hist = in_edges.PartyID.value_counts()\n",
    "\n",
    "        hist.sort_index(inplace=True)\n",
    "\n",
    "        x, y = hist.index, hist.values\n",
    "        y = y / y.sum()\n",
    "\n",
    "        flatax[i].bar(x, y, color=colors[i])\n",
    "        hide_and_move_axis(flatax[i])\n",
    "\n",
    "        if not aggregate:\n",
    "            flatax[i].set_xticks(x, x, rotation='vertical', size=6)\n",
    "\n",
    "    axarr[1, 2].set_xlabel('Governing party')\n",
    "    axarr[0, 0].set_ylabel('Relative frequency')\n",
    "    axarr[1, 0].set_ylabel('Relative frequency')\n",
    "\n",
    "    plt.tight_layout()\n",
    "\n",
    "    plt.savefig(OUTPUT_FOLDER / output_file, dpi=400)"
   ]
  },
  {
   "cell_type": "code",
   "execution_count": null,
   "id": "32222d70-de95-4310-a61b-b0ccdf23377a",
   "metadata": {},
   "outputs": [],
   "source": [
    "RAW_DATA = Path(CONFIG.data.raw)\n",
    "\n",
    "network = WeightedNetwork(nodes_file=RAW_DATA / CONFIG.data.filenames.nodes, edges_file=RAW_DATA / CONFIG.data.filenames.edges)\n",
    "plot_community_characteristics(network)\n",
    "plot_community_characteristics(network, aggregate=False)"
   ]
  },
  {
   "cell_type": "code",
   "execution_count": null,
   "id": "00ece173-224f-4878-a39e-03f2f87e7ec8",
   "metadata": {},
   "outputs": [],
   "source": [
    "f, axarr = plt.subplots(2, 5, sharex=True, figsize=(12, 6), sharey=True)\n",
    "\n",
    "colors = get_standard_colors()\n",
    "nodes = network.nodes()\n",
    "\n",
    "global_df = nodes.groupby('Year').Juden.sum() / network.nodes().PlaceID.unique().shape[0]\n",
    "\n",
    "for i, community in enumerate(network.communities()):\n",
    "\n",
    "    df = nodes[nodes.PlaceID.isin(community)]\n",
    "    df = df.groupby('Year').Juden.mean() #/ len(community)\n",
    "    axarr.flatten()[i].plot(df.index, df.values, c=colors[i])\n",
    "    #axarr.flatten()[i].plot(global_df.index, global_df.values, zorder=0, c='k', alpha=0.5)\n",
    "\n",
    "plt.tight_layout()"
   ]
  },
  {
   "cell_type": "markdown",
   "id": "d77cbe97-722d-4075-bbaa-8d74eb75799e",
   "metadata": {},
   "source": [
    "# Sandbox"
   ]
  },
  {
   "cell_type": "code",
   "execution_count": null,
   "id": "9ce26edc-898e-4737-aad8-7069935d62d0",
   "metadata": {},
   "outputs": [],
   "source": [
    "def plot_edge_weight_distribution(network):\n",
    "\n",
    "    weights = [network.get_edge_data(u, v)['weight'] for u, v in G.edges()]\n",
    "\n",
    "    f, ax = plt.subplots()\n",
    "\n",
    "    ax.hist(weights, bins=np.arange(0, 1, 0.05), width=0.04)\n",
    "    ax.set_xlabel('Edge weight')\n",
    "    ax.set_ylabel('Count')\n",
    "    hide_and_move_axis(ax)\n",
    "\n",
    "    plt.savefig(OUTPUT_FOLDER / 'edge_weight_histrogram.jpg')"
   ]
  },
  {
   "cell_type": "code",
   "execution_count": null,
   "id": "4499cc83-8690-41f6-9ff7-b050c3b996c7",
   "metadata": {},
   "outputs": [],
   "source": [
    "plot_edge_weight_distribution(network=NETWORK)"
   ]
  },
  {
   "cell_type": "code",
   "execution_count": null,
   "id": "9ffebe88-c60e-41f2-bf6e-3909c895d8c8",
   "metadata": {},
   "outputs": [],
   "source": [
    "network.edges().groupby('Year')['from'].count().plot()"
   ]
  }
 ],
 "metadata": {
  "kernelspec": {
   "display_name": "Python 3 (ipykernel)",
   "language": "python",
   "name": "python3"
  },
  "language_info": {
   "codemirror_mode": {
    "name": "ipython",
    "version": 3
   },
   "file_extension": ".py",
   "mimetype": "text/x-python",
   "name": "python",
   "nbconvert_exporter": "python",
   "pygments_lexer": "ipython3",
   "version": "3.12.1"
  }
 },
 "nbformat": 4,
 "nbformat_minor": 5
}
