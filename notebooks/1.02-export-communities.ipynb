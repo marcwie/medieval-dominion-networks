{
 "cells": [
  {
   "cell_type": "code",
   "execution_count": null,
   "id": "320d2912-e065-45ae-bf1f-42bf2524234a",
   "metadata": {},
   "outputs": [],
   "source": [
    "%load_ext autoreload\n",
    "%autoreload 2\n",
    "\n",
    "import hydra\n",
    "import os\n",
    "import datetime\n",
    "from pathlib import Path\n",
    "from src.weighted_network import WeightedNetwork\n",
    "\n",
    "# Initialize hydra and move to the root of the repository\n",
    "try:\n",
    "    hydra.initialize(version_base=None, config_path=\"../config/\")\n",
    "    CONFIG = hydra.compose(config_name=\"main.yaml\")\n",
    "    print('Initializing hydra')\n",
    "except:\n",
    "    print('Hydra already initalized!')\n",
    "else:\n",
    "    # Create an output folder in the root of the repository\n",
    "    os.chdir('..')\n",
    "    OUTPUT_FOLDER = Path('output/{0}'.format(datetime.datetime.now()))\n",
    "    Path(OUTPUT_FOLDER).mkdir(parents=True, exist_ok=True)"
   ]
  },
  {
   "cell_type": "code",
   "execution_count": null,
   "id": "e9eeaa0c-9cda-454a-832b-cc708a840e0e",
   "metadata": {},
   "outputs": [],
   "source": [
    "def load(year0=None, year1=None, edge_filter='S238'):\n",
    "    \"\"\"Load the weighted network.\"\"\"\n",
    "    input_path = Path(CONFIG.data.raw)\n",
    "    nodes_file = input_path / CONFIG.data.filenames.nodes\n",
    "    edges_file = input_path / CONFIG.data.filenames.edges\n",
    "    return WeightedNetwork(nodes_file=nodes_file, edges_file=edges_file, year0=year0, year1=year1, edge_filter=edge_filter)\n"
   ]
  },
  {
   "cell_type": "code",
   "execution_count": null,
   "id": "d785870e-4b76-4e47-af3d-be1a0de8c072",
   "metadata": {},
   "outputs": [],
   "source": [
    "G_WEIGHTED = load()\n",
    "\n",
    "nodes = G_WEIGHTED.nodes()\n",
    "nodes = nodes[['PlaceID', 'PlaceName']].drop_duplicates()"
   ]
  },
  {
   "cell_type": "code",
   "execution_count": null,
   "id": "20784235-8617-4fa5-8fb0-4c692ef5ce93",
   "metadata": {},
   "outputs": [],
   "source": [
    "nodes = G_WEIGHTED.nodes()\n",
    "nodes = nodes[['PlaceID', 'PlaceName']].drop_duplicates()\n",
    "\n",
    "G_WEIGHTED.compute_communities(max_communities=10)\n",
    "communities = G_WEIGHTED.communities()\n",
    "\n",
    "for i, c in enumerate(communities):\n",
    "    nodes.loc[nodes.PlaceID.isin(c), 'community10'] = i\n",
    "\n",
    "G_WEIGHTED.compute_communities(max_communities=25)\n",
    "communities = G_WEIGHTED.communities()\n",
    "\n",
    "for i, c in enumerate(communities):\n",
    "    nodes.loc[nodes.PlaceID.isin(c), 'community25'] = i\n",
    "\n",
    "nodes.fillna(-1, inplace=True)\n",
    "nodes.to_csv('computations/nodes_to_communities.csv', index=False)"
   ]
  }
 ],
 "metadata": {
  "kernelspec": {
   "display_name": "Python 3 (ipykernel)",
   "language": "python",
   "name": "python3"
  },
  "language_info": {
   "codemirror_mode": {
    "name": "ipython",
    "version": 3
   },
   "file_extension": ".py",
   "mimetype": "text/x-python",
   "name": "python",
   "nbconvert_exporter": "python",
   "pygments_lexer": "ipython3",
   "version": "3.12.2"
  }
 },
 "nbformat": 4,
 "nbformat_minor": 5
}
